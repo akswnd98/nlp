{
 "cells": [
  {
   "cell_type": "code",
   "execution_count": 2,
   "metadata": {},
   "outputs": [
    {
     "name": "stdout",
     "output_type": "stream",
     "text": [
      "tf.Tensor(\n",
      "[[-3.3558525e-02  1.3938915e-02 -9.5622540e-03 -9.3423724e-03\n",
      "   2.0891163e-02 -3.5392094e-02  3.4006622e-02  4.3214690e-02\n",
      "  -4.1279316e-02 -3.9171375e-02  2.2771154e-02  1.4071833e-02\n",
      "  -3.1048656e-02 -1.3075303e-02 -1.7834529e-03 -4.9749698e-02\n",
      "  -3.1200219e-02  3.5708200e-02  2.4741888e-04  4.6095919e-02\n",
      "  -8.4793940e-03 -1.6273417e-02  4.2171869e-02]\n",
      " [ 3.5628978e-02 -3.3727400e-03  3.5091471e-02  4.2140353e-02\n",
      "  -1.8571902e-02 -4.8532940e-02 -3.5832942e-02  4.3679487e-02\n",
      "  -4.5317039e-03  3.5431873e-02 -1.8108785e-02 -1.0483790e-02\n",
      "   3.0638944e-02 -3.4087971e-02  3.0643407e-02  4.0095855e-02\n",
      "   3.2136645e-02 -2.4772752e-02 -3.0604899e-02  1.7257068e-02\n",
      "   2.6898835e-02 -3.7191130e-02 -1.9501075e-03]\n",
      " [-3.0475497e-02  3.9375555e-02  1.8870719e-03  3.7689220e-02\n",
      "   3.8082313e-02  3.2959949e-02 -1.6946904e-03 -2.9626179e-02\n",
      "  -2.0259393e-02  2.4264645e-02  2.7463052e-02  3.5216812e-02\n",
      "  -1.0626800e-03 -2.2362918e-05 -2.7525974e-02  4.2993426e-03\n",
      "   3.5255883e-02  3.5787988e-02 -1.9459534e-02 -3.6040030e-02\n",
      "  -3.8448334e-02 -2.5647461e-02  4.5190025e-02]], shape=(3, 23), dtype=float32)\n"
     ]
    }
   ],
   "source": [
    "import tensorflow as tf\n",
    "from tensorflow.keras.layers import Embedding\n",
    "from tensorflow.keras.layers import Attention\n",
    "\n",
    "embedding = Embedding(12, 23)\n",
    "print(embedding(tf.convert_to_tensor([1, 2, 3])))\n",
    "# attention = Attention()\n",
    "# attention(query=tf.random.normal((1, 1, 1024)), value=tf.random.normal((1, 30, 1024)))"
   ]
  },
  {
   "cell_type": "code",
   "execution_count": 7,
   "metadata": {},
   "outputs": [
    {
     "name": "stdout",
     "output_type": "stream",
     "text": [
      "tf.Tensor([3 6], shape=(2,), dtype=int32)\n"
     ]
    }
   ],
   "source": [
    "ts = tf.convert_to_tensor([[1, 2, 3], [4, 5, 6]])\n",
    "print(ts[:, 2])"
   ]
  },
  {
   "cell_type": "code",
   "execution_count": 12,
   "metadata": {},
   "outputs": [
    {
     "ename": "IndexError",
     "evalue": "invalid index to scalar variable.",
     "output_type": "error",
     "traceback": [
      "\u001b[1;31m---------------------------------------------------------------------------\u001b[0m",
      "\u001b[1;31mIndexError\u001b[0m                                Traceback (most recent call last)",
      "\u001b[1;32m~\\AppData\\Local\\Temp\\ipykernel_11896\\323554012.py\u001b[0m in \u001b[0;36m<module>\u001b[1;34m\u001b[0m\n\u001b[0;32m      1\u001b[0m \u001b[1;32mimport\u001b[0m \u001b[0mtensorflow\u001b[0m \u001b[1;32mas\u001b[0m \u001b[0mtf\u001b[0m\u001b[1;33m\u001b[0m\u001b[1;33m\u001b[0m\u001b[0m\n\u001b[0;32m      2\u001b[0m \u001b[1;33m\u001b[0m\u001b[0m\n\u001b[1;32m----> 3\u001b[1;33m \u001b[0mtf\u001b[0m\u001b[1;33m.\u001b[0m\u001b[0mconvert_to_tensor\u001b[0m\u001b[1;33m(\u001b[0m\u001b[1;33m[\u001b[0m\u001b[1;36m1\u001b[0m\u001b[1;33m,\u001b[0m \u001b[1;36m2\u001b[0m\u001b[1;33m,\u001b[0m \u001b[1;36m3\u001b[0m\u001b[1;33m]\u001b[0m\u001b[1;33m)\u001b[0m\u001b[1;33m[\u001b[0m\u001b[1;36m0\u001b[0m\u001b[1;33m]\u001b[0m\u001b[1;33m.\u001b[0m\u001b[0mnumpy\u001b[0m\u001b[1;33m(\u001b[0m\u001b[1;33m)\u001b[0m\u001b[1;33m[\u001b[0m\u001b[1;36m0\u001b[0m\u001b[1;33m]\u001b[0m\u001b[1;33m\u001b[0m\u001b[1;33m\u001b[0m\u001b[0m\n\u001b[0m",
      "\u001b[1;31mIndexError\u001b[0m: invalid index to scalar variable."
     ]
    }
   ],
   "source": [
    "import tensorflow as tf\n",
    "\n",
    "tf.convert_to_tensor([1, 2, 3])[0].numpy()\n"
   ]
  },
  {
   "cell_type": "code",
   "execution_count": 3,
   "metadata": {},
   "outputs": [
    {
     "data": {
      "text/plain": [
       "[name: \"/device:CPU:0\"\n",
       " device_type: \"CPU\"\n",
       " memory_limit: 268435456\n",
       " locality {\n",
       " }\n",
       " incarnation: 10172602843151728878\n",
       " xla_global_id: -1,\n",
       " name: \"/device:GPU:0\"\n",
       " device_type: \"GPU\"\n",
       " memory_limit: 5748293632\n",
       " locality {\n",
       "   bus_id: 1\n",
       "   links {\n",
       "   }\n",
       " }\n",
       " incarnation: 564573265009596126\n",
       " physical_device_desc: \"device: 0, name: NVIDIA GeForce RTX 3060 Ti, pci bus id: 0000:01:00.0, compute capability: 8.6\"\n",
       " xla_global_id: 416903419]"
      ]
     },
     "execution_count": 3,
     "metadata": {},
     "output_type": "execute_result"
    }
   ],
   "source": [
    "import tensorflow as tf\n",
    "from tensorflow.python.client import device_lib\n",
    "\n",
    "device_lib.list_local_devices()"
   ]
  },
  {
   "cell_type": "code",
   "execution_count": 2,
   "metadata": {},
   "outputs": [
    {
     "name": "stdout",
     "output_type": "stream",
     "text": [
      "tf.Tensor(1, shape=(), dtype=int32)\n",
      "tf.Tensor(2, shape=(), dtype=int32)\n",
      "tf.Tensor(3, shape=(), dtype=int32)\n"
     ]
    }
   ],
   "source": [
    "import tensorflow as tf\n",
    "\n",
    "for i in tf.convert_to_tensor([1, 2, 3]):\n",
    "  print(i)"
   ]
  }
 ],
 "metadata": {
  "kernelspec": {
   "display_name": "base",
   "language": "python",
   "name": "python3"
  },
  "language_info": {
   "codemirror_mode": {
    "name": "ipython",
    "version": 3
   },
   "file_extension": ".py",
   "mimetype": "text/x-python",
   "name": "python",
   "nbconvert_exporter": "python",
   "pygments_lexer": "ipython3",
   "version": "3.9.13"
  },
  "orig_nbformat": 4,
  "vscode": {
   "interpreter": {
    "hash": "ec62f2ec7c7d49224ec335e3ef472b8ef537dc7949933ed74784e8710c2a92fb"
   }
  }
 },
 "nbformat": 4,
 "nbformat_minor": 2
}
